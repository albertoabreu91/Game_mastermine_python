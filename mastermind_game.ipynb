{
 "cells": [
  {
   "cell_type": "markdown",
   "metadata": {},
   "source": [
    "# Hello, welcome to the game of Mastermind\n",
    "\n",
    "### Mastermind game description and rules:\n",
    "\n",
    "#### Users:\n",
    "\n",
    "Codemaker: The code maker is the person who chooses a pattern of four code strings and provide feedback to the Codebreaker.\n",
    "\n",
    "Codebraker: The codebreaker tries to guess the pattern, in both order and color, within twelve (or ten, or eight) turns.\n",
    "\n",
    "#### The game is played using:\n",
    "\n",
    "1- A “decoding board” with a shield cover one of the ends of the board protecting the four code pegs created by the Codemaker and and twelve (or ten, or eight, or six) additional rows containing four large holes next to a set of four small holes.\n",
    "\n",
    "2- Code list of six different colors strings. [ ‘green’, ‘red’, ‘yellow’, ‘blue’, ‘purple’, ‘pink’ ]\n",
    "\n",
    "3- Key strings in a list, some “black” , some “white” .\n",
    "\n",
    "#### The flow:\n",
    "\n",
    "1- The Codemaker creates the pattern which is a list of four elements (i.e. [ ‘green’, ‘red’, ‘yellow’, ‘red’ ] ). This is created by the computer and you will not be able to see it, it is hidden from you. \n",
    "\n",
    "2- The Codebreaker decides the difficulty of the game by choosing how many rounds. More rounds increases the chances of winning the game by decoding the code. \n",
    "\n",
    "3- The Codebreaker writes down the pattern for the first time (i.e. [ ‘red’, ‘yellow’, ‘purple’, ‘red’ ] ).\n",
    "\n",
    "4- The Codemaker provides feedback by returning a list of “black” and “whites” strings indicating:\n",
    "\n",
    "\t4.1. “Black” means that you guess the color and the index of the element in the pattern but does not tell you which element. \n",
    "\t4.2. “White” means that you guess the color but not the location but does not tell you which element. \n",
    "    4.3. \" - \" means that the color is not part of the codomaker code. \n",
    "    \n",
    "(i.e. [ ' - ', \"white\", ' - ', 'black' ] ).\n",
    "\n",
    "5 - Step 3 and 4 are repeated sequentially until the Codebreaker solve the code or the number of rounds reached the limit. \n",
    "\n",
    "6- If the Codebreaker solve the code before the number of rounds then he wins, and if not, the Codemaker wins. \n"
   ]
  },
  {
   "cell_type": "code",
   "execution_count": 1,
   "metadata": {},
   "outputs": [],
   "source": [
    "# import library\n",
    "\n",
    "import random\n",
    "import sys"
   ]
  },
  {
   "cell_type": "code",
   "execution_count": 2,
   "metadata": {},
   "outputs": [],
   "source": [
    "# Setting up the variables\n",
    "\n",
    "color_list_options = ['RED', 'YELLOW', 'BLUE', 'GREEN', 'PINK', 'PURPLE']\n",
    "level_rounds = { 'easy': 12, 'medium': 8, 'hard': 4}\n"
   ]
  },
  {
   "cell_type": "code",
   "execution_count": 3,
   "metadata": {
    "scrolled": true
   },
   "outputs": [],
   "source": [
    "# DEFINING THE DIFFICULTY LEVEL THUS THE ROUNDS OF THE GAME\n",
    "\n",
    "# Easy = 12 rounds, Medium = 8 rounds and Hard = 4 rounds\n",
    "\n",
    "def ask_user_difficulty_level():\n",
    "    \n",
    "    difficulty_level = input(\"Choose the difficult level (easy, medium or hard) for the game: \\n\").lower()\n",
    "    \n",
    "    if difficulty_level not in level_rounds.keys():\n",
    "        print(\"\\n FATAL ERROR: Your response must be 'easy', 'medium' or 'hard'. \\n\")\n",
    "        sys.exit()\n",
    "        \n",
    "    else:\n",
    "        return level_rounds[difficulty_level]\n",
    "    \n",
    "#ROUNDS_LEVEL = ask_user_difficulty_level()\n",
    "\n",
    "# print(f'\\nThe game will consist of {ROUNDS_LEVEL} rounds.') QUEDA PENDIENTE"
   ]
  },
  {
   "cell_type": "code",
   "execution_count": 4,
   "metadata": {},
   "outputs": [],
   "source": [
    "# DEFINING THE CODEMAKER CODE PATTERN IN A RANDOM WAY\n",
    "\n",
    "def codemaker_code_pattern():\n",
    "    \n",
    "    codemaker_code = []\n",
    "    \n",
    "    for i in range(4):\n",
    "        choice = random.choice(color_list_options).upper()\n",
    "        codemaker_code.append(choice)\n",
    "\n",
    "    return codemaker_code\n",
    "\n",
    "#CODEMAKER_PATTERN = codemaker_code_pattern()"
   ]
  },
  {
   "cell_type": "code",
   "execution_count": 5,
   "metadata": {},
   "outputs": [],
   "source": [
    "# DEFINING THE CODEBREAKER GUESS\n",
    "\n",
    "def codebreaker_guess():\n",
    "    \n",
    "    print('\\nThe game color options are: red, yellow, blue, green, pink and purple.\\n')\n",
    "    \n",
    "    user_code_choice = input(\"Enter four colors separated by a SINGLE SPACE: \\n\").upper()\n",
    "    \n",
    "    user_choice  = user_code_choice.split()\n",
    "    \n",
    "    check =  all(item in color_list_options for item in user_choice)\n",
    "    \n",
    "    if check and len(user_choice) == 4:\n",
    "        return user_choice\n",
    "        \n",
    "    else:\n",
    "        print(\"FATAL ERROR: The colors must be: red, yellow, blue, green, pink and purple. And you must enter exactly four colors separated by a SINGLE SPACE. \\n\")\n",
    "        sys.exit()\n",
    "\n",
    "\n",
    "#code_breaker_guess = codebreaker_guess()\n"
   ]
  },
  {
   "cell_type": "code",
   "execution_count": 6,
   "metadata": {},
   "outputs": [],
   "source": [
    "# COMPARING THE CODEBREAKER GUESS WITH THE CODEMAKER CODE PATTERN.\n",
    "\n",
    "def feedback_codemaker(pattern_maker, pattern_breaker):\n",
    "    \n",
    "    feedback = []\n",
    "    \n",
    "    for i in range(4):\n",
    "        \n",
    "        if pattern_breaker[i] == pattern_maker[i]:\n",
    "            feedback.append('black')\n",
    "            \n",
    "        elif pattern_breaker[i] in pattern_maker:\n",
    "            feedback.append('white')\n",
    "        \n",
    "        else:\n",
    "            feedback.append(' - ')\n",
    "            \n",
    "    return feedback\n",
    "\n",
    "#feedback_list = feedback_codemaker()\n",
    "    "
   ]
  },
  {
   "cell_type": "code",
   "execution_count": 16,
   "metadata": {},
   "outputs": [],
   "source": [
    "# DEFINING THE GAME FLOW\n",
    "\n",
    "def game():\n",
    "    \n",
    "    print('Welcome to the MASTERMIND game, please enjoy and follow the instructions, GOOD LUCK!!')\n",
    "    \n",
    "    ROUNDS = ask_user_difficulty_level()\n",
    "    \n",
    "    print(f'\\n You will play {ROUNDS} rounds \\n ')\n",
    "    print('--------------------------------------------------------------')\n",
    "    \n",
    "    CODEMAKER_PATTERN = codemaker_code_pattern()\n",
    "    \n",
    "    print(CODEMAKER_PATTERN)\n",
    "    \n",
    "    rounds_played = 1\n",
    "    \n",
    "    while rounds_played <= ROUNDS:\n",
    "        \n",
    "            code_breaker_guess = codebreaker_guess()\n",
    "            \n",
    "            print('\\nYour guess is:')\n",
    "            \n",
    "            print(code_breaker_guess)\n",
    "\n",
    "            rounds_played += 1\n",
    "\n",
    "            feedback_list = feedback_codemaker(CODEMAKER_PATTERN,code_breaker_guess)\n",
    "            \n",
    "            print('\\nYour feed back is: \\n')\n",
    "\n",
    "            print(feedback_list)\n",
    "            \n",
    "            print(f'\\nThis was the round {rounds_played - 1} \\n')\n",
    "            \n",
    "            print('-------------------------------------------------------')\n",
    "            \n",
    "            if CODEMAKER_PATTERN == code_breaker_guess:\n",
    "                print('You won!!!!!!')\n",
    "                break\n",
    "        \n",
    "    if rounds_played == 5:\n",
    "        print(\"You loose, you run out of rounds!!!! Try another time\")\n",
    "    \n",
    "    \n",
    "    \n",
    "    \n",
    "    \n",
    "\n",
    "    \n"
   ]
  },
  {
   "cell_type": "code",
   "execution_count": 17,
   "metadata": {},
   "outputs": [
    {
     "name": "stdout",
     "output_type": "stream",
     "text": [
      "Welcome to the MASTERMIND game, please enjoy and follow the instructions, GOOD LUCK!!\n"
     ]
    },
    {
     "ename": "KeyboardInterrupt",
     "evalue": "",
     "output_type": "error",
     "traceback": [
      "\u001b[0;31m---------------------------------------------------------------------------\u001b[0m",
      "\u001b[0;31mKeyboardInterrupt\u001b[0m                         Traceback (most recent call last)",
      "\u001b[0;32m/usr/local/Cellar/ipython/7.5.0/libexec/vendor/lib/python3.7/site-packages/ipykernel/kernelbase.py\u001b[0m in \u001b[0;36m_input_request\u001b[0;34m(self, prompt, ident, parent, password)\u001b[0m\n\u001b[1;32m    877\u001b[0m             \u001b[0;32mtry\u001b[0m\u001b[0;34m:\u001b[0m\u001b[0;34m\u001b[0m\u001b[0;34m\u001b[0m\u001b[0m\n\u001b[0;32m--> 878\u001b[0;31m                 \u001b[0mident\u001b[0m\u001b[0;34m,\u001b[0m \u001b[0mreply\u001b[0m \u001b[0;34m=\u001b[0m \u001b[0mself\u001b[0m\u001b[0;34m.\u001b[0m\u001b[0msession\u001b[0m\u001b[0;34m.\u001b[0m\u001b[0mrecv\u001b[0m\u001b[0;34m(\u001b[0m\u001b[0mself\u001b[0m\u001b[0;34m.\u001b[0m\u001b[0mstdin_socket\u001b[0m\u001b[0;34m,\u001b[0m \u001b[0;36m0\u001b[0m\u001b[0;34m)\u001b[0m\u001b[0;34m\u001b[0m\u001b[0;34m\u001b[0m\u001b[0m\n\u001b[0m\u001b[1;32m    879\u001b[0m             \u001b[0;32mexcept\u001b[0m \u001b[0mException\u001b[0m\u001b[0;34m:\u001b[0m\u001b[0;34m\u001b[0m\u001b[0;34m\u001b[0m\u001b[0m\n",
      "\u001b[0;32m/usr/local/Cellar/ipython/7.5.0/libexec/vendor/lib/python3.7/site-packages/jupyter_client/session.py\u001b[0m in \u001b[0;36mrecv\u001b[0;34m(self, socket, mode, content, copy)\u001b[0m\n\u001b[1;32m    802\u001b[0m         \u001b[0;32mtry\u001b[0m\u001b[0;34m:\u001b[0m\u001b[0;34m\u001b[0m\u001b[0;34m\u001b[0m\u001b[0m\n\u001b[0;32m--> 803\u001b[0;31m             \u001b[0mmsg_list\u001b[0m \u001b[0;34m=\u001b[0m \u001b[0msocket\u001b[0m\u001b[0;34m.\u001b[0m\u001b[0mrecv_multipart\u001b[0m\u001b[0;34m(\u001b[0m\u001b[0mmode\u001b[0m\u001b[0;34m,\u001b[0m \u001b[0mcopy\u001b[0m\u001b[0;34m=\u001b[0m\u001b[0mcopy\u001b[0m\u001b[0;34m)\u001b[0m\u001b[0;34m\u001b[0m\u001b[0;34m\u001b[0m\u001b[0m\n\u001b[0m\u001b[1;32m    804\u001b[0m         \u001b[0;32mexcept\u001b[0m \u001b[0mzmq\u001b[0m\u001b[0;34m.\u001b[0m\u001b[0mZMQError\u001b[0m \u001b[0;32mas\u001b[0m \u001b[0me\u001b[0m\u001b[0;34m:\u001b[0m\u001b[0;34m\u001b[0m\u001b[0;34m\u001b[0m\u001b[0m\n",
      "\u001b[0;32m/usr/local/Cellar/ipython/7.5.0/libexec/vendor/lib/python3.7/site-packages/zmq/sugar/socket.py\u001b[0m in \u001b[0;36mrecv_multipart\u001b[0;34m(self, flags, copy, track)\u001b[0m\n\u001b[1;32m    469\u001b[0m         \"\"\"\n\u001b[0;32m--> 470\u001b[0;31m         \u001b[0mparts\u001b[0m \u001b[0;34m=\u001b[0m \u001b[0;34m[\u001b[0m\u001b[0mself\u001b[0m\u001b[0;34m.\u001b[0m\u001b[0mrecv\u001b[0m\u001b[0;34m(\u001b[0m\u001b[0mflags\u001b[0m\u001b[0;34m,\u001b[0m \u001b[0mcopy\u001b[0m\u001b[0;34m=\u001b[0m\u001b[0mcopy\u001b[0m\u001b[0;34m,\u001b[0m \u001b[0mtrack\u001b[0m\u001b[0;34m=\u001b[0m\u001b[0mtrack\u001b[0m\u001b[0;34m)\u001b[0m\u001b[0;34m]\u001b[0m\u001b[0;34m\u001b[0m\u001b[0;34m\u001b[0m\u001b[0m\n\u001b[0m\u001b[1;32m    471\u001b[0m         \u001b[0;31m# have first part already, only loop while more to receive\u001b[0m\u001b[0;34m\u001b[0m\u001b[0;34m\u001b[0m\u001b[0;34m\u001b[0m\u001b[0m\n",
      "\u001b[0;32mzmq/backend/cython/socket.pyx\u001b[0m in \u001b[0;36mzmq.backend.cython.socket.Socket.recv\u001b[0;34m()\u001b[0m\n",
      "\u001b[0;32mzmq/backend/cython/socket.pyx\u001b[0m in \u001b[0;36mzmq.backend.cython.socket.Socket.recv\u001b[0;34m()\u001b[0m\n",
      "\u001b[0;32mzmq/backend/cython/socket.pyx\u001b[0m in \u001b[0;36mzmq.backend.cython.socket._recv_copy\u001b[0;34m()\u001b[0m\n",
      "\u001b[0;32m/usr/local/Cellar/ipython/7.5.0/libexec/vendor/lib/python3.7/site-packages/zmq/backend/cython/checkrc.pxd\u001b[0m in \u001b[0;36mzmq.backend.cython.checkrc._check_rc\u001b[0;34m()\u001b[0m\n",
      "\u001b[0;31mKeyboardInterrupt\u001b[0m: ",
      "\nDuring handling of the above exception, another exception occurred:\n",
      "\u001b[0;31mKeyboardInterrupt\u001b[0m                         Traceback (most recent call last)",
      "\u001b[0;32m<ipython-input-17-4a8413945148>\u001b[0m in \u001b[0;36m<module>\u001b[0;34m\u001b[0m\n\u001b[0;32m----> 1\u001b[0;31m \u001b[0mgame\u001b[0m\u001b[0;34m(\u001b[0m\u001b[0;34m)\u001b[0m\u001b[0;34m\u001b[0m\u001b[0;34m\u001b[0m\u001b[0m\n\u001b[0m",
      "\u001b[0;32m<ipython-input-16-77baf5a44289>\u001b[0m in \u001b[0;36mgame\u001b[0;34m()\u001b[0m\n\u001b[1;32m      5\u001b[0m     \u001b[0mprint\u001b[0m\u001b[0;34m(\u001b[0m\u001b[0;34m'Welcome to the MASTERMIND game, please enjoy and follow the instructions, GOOD LUCK!!'\u001b[0m\u001b[0;34m)\u001b[0m\u001b[0;34m\u001b[0m\u001b[0;34m\u001b[0m\u001b[0m\n\u001b[1;32m      6\u001b[0m \u001b[0;34m\u001b[0m\u001b[0m\n\u001b[0;32m----> 7\u001b[0;31m     \u001b[0mROUNDS\u001b[0m \u001b[0;34m=\u001b[0m \u001b[0mask_user_difficulty_level\u001b[0m\u001b[0;34m(\u001b[0m\u001b[0;34m)\u001b[0m\u001b[0;34m\u001b[0m\u001b[0;34m\u001b[0m\u001b[0m\n\u001b[0m\u001b[1;32m      8\u001b[0m \u001b[0;34m\u001b[0m\u001b[0m\n\u001b[1;32m      9\u001b[0m     \u001b[0mprint\u001b[0m\u001b[0;34m(\u001b[0m\u001b[0;34mf'\\n You will play {ROUNDS} rounds \\n '\u001b[0m\u001b[0;34m)\u001b[0m\u001b[0;34m\u001b[0m\u001b[0;34m\u001b[0m\u001b[0m\n",
      "\u001b[0;32m<ipython-input-3-b9d86a6473d8>\u001b[0m in \u001b[0;36mask_user_difficulty_level\u001b[0;34m()\u001b[0m\n\u001b[1;32m      5\u001b[0m \u001b[0;32mdef\u001b[0m \u001b[0mask_user_difficulty_level\u001b[0m\u001b[0;34m(\u001b[0m\u001b[0;34m)\u001b[0m\u001b[0;34m:\u001b[0m\u001b[0;34m\u001b[0m\u001b[0;34m\u001b[0m\u001b[0m\n\u001b[1;32m      6\u001b[0m \u001b[0;34m\u001b[0m\u001b[0m\n\u001b[0;32m----> 7\u001b[0;31m     \u001b[0mdifficulty_level\u001b[0m \u001b[0;34m=\u001b[0m \u001b[0minput\u001b[0m\u001b[0;34m(\u001b[0m\u001b[0;34m\"Choose the difficult level (easy, medium or hard) for the game: \\n\"\u001b[0m\u001b[0;34m)\u001b[0m\u001b[0;34m.\u001b[0m\u001b[0mlower\u001b[0m\u001b[0;34m(\u001b[0m\u001b[0;34m)\u001b[0m\u001b[0;34m\u001b[0m\u001b[0;34m\u001b[0m\u001b[0m\n\u001b[0m\u001b[1;32m      8\u001b[0m \u001b[0;34m\u001b[0m\u001b[0m\n\u001b[1;32m      9\u001b[0m     \u001b[0;32mif\u001b[0m \u001b[0mdifficulty_level\u001b[0m \u001b[0;32mnot\u001b[0m \u001b[0;32min\u001b[0m \u001b[0mlevel_rounds\u001b[0m\u001b[0;34m.\u001b[0m\u001b[0mkeys\u001b[0m\u001b[0;34m(\u001b[0m\u001b[0;34m)\u001b[0m\u001b[0;34m:\u001b[0m\u001b[0;34m\u001b[0m\u001b[0;34m\u001b[0m\u001b[0m\n",
      "\u001b[0;32m/usr/local/Cellar/ipython/7.5.0/libexec/vendor/lib/python3.7/site-packages/ipykernel/kernelbase.py\u001b[0m in \u001b[0;36mraw_input\u001b[0;34m(self, prompt)\u001b[0m\n\u001b[1;32m    851\u001b[0m             \u001b[0mself\u001b[0m\u001b[0;34m.\u001b[0m\u001b[0m_parent_ident\u001b[0m\u001b[0;34m,\u001b[0m\u001b[0;34m\u001b[0m\u001b[0;34m\u001b[0m\u001b[0m\n\u001b[1;32m    852\u001b[0m             \u001b[0mself\u001b[0m\u001b[0;34m.\u001b[0m\u001b[0m_parent_header\u001b[0m\u001b[0;34m,\u001b[0m\u001b[0;34m\u001b[0m\u001b[0;34m\u001b[0m\u001b[0m\n\u001b[0;32m--> 853\u001b[0;31m             \u001b[0mpassword\u001b[0m\u001b[0;34m=\u001b[0m\u001b[0;32mFalse\u001b[0m\u001b[0;34m,\u001b[0m\u001b[0;34m\u001b[0m\u001b[0;34m\u001b[0m\u001b[0m\n\u001b[0m\u001b[1;32m    854\u001b[0m         )\n\u001b[1;32m    855\u001b[0m \u001b[0;34m\u001b[0m\u001b[0m\n",
      "\u001b[0;32m/usr/local/Cellar/ipython/7.5.0/libexec/vendor/lib/python3.7/site-packages/ipykernel/kernelbase.py\u001b[0m in \u001b[0;36m_input_request\u001b[0;34m(self, prompt, ident, parent, password)\u001b[0m\n\u001b[1;32m    881\u001b[0m             \u001b[0;32mexcept\u001b[0m \u001b[0mKeyboardInterrupt\u001b[0m\u001b[0;34m:\u001b[0m\u001b[0;34m\u001b[0m\u001b[0;34m\u001b[0m\u001b[0m\n\u001b[1;32m    882\u001b[0m                 \u001b[0;31m# re-raise KeyboardInterrupt, to truncate traceback\u001b[0m\u001b[0;34m\u001b[0m\u001b[0;34m\u001b[0m\u001b[0;34m\u001b[0m\u001b[0m\n\u001b[0;32m--> 883\u001b[0;31m                 \u001b[0;32mraise\u001b[0m \u001b[0mKeyboardInterrupt\u001b[0m\u001b[0;34m\u001b[0m\u001b[0;34m\u001b[0m\u001b[0m\n\u001b[0m\u001b[1;32m    884\u001b[0m             \u001b[0;32melse\u001b[0m\u001b[0;34m:\u001b[0m\u001b[0;34m\u001b[0m\u001b[0;34m\u001b[0m\u001b[0m\n\u001b[1;32m    885\u001b[0m                 \u001b[0;32mbreak\u001b[0m\u001b[0;34m\u001b[0m\u001b[0;34m\u001b[0m\u001b[0m\n",
      "\u001b[0;31mKeyboardInterrupt\u001b[0m: "
     ]
    }
   ],
   "source": [
    "game()"
   ]
  },
  {
   "cell_type": "code",
   "execution_count": null,
   "metadata": {},
   "outputs": [],
   "source": []
  }
 ],
 "metadata": {
  "kernelspec": {
   "display_name": "Python 3",
   "language": "python",
   "name": "python3"
  },
  "language_info": {
   "codemirror_mode": {
    "name": "ipython",
    "version": 3
   },
   "file_extension": ".py",
   "mimetype": "text/x-python",
   "name": "python",
   "nbconvert_exporter": "python",
   "pygments_lexer": "ipython3",
   "version": "3.7.3"
  }
 },
 "nbformat": 4,
 "nbformat_minor": 2
}
