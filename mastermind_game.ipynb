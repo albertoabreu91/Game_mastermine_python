{
 "cells": [
  {
   "cell_type": "markdown",
   "metadata": {},
   "source": [
    "# Hello, welcome to the game of Mastermind\n",
    "\n",
    "### Mastermind game description and rules:\n",
    "\n",
    "#### Users:\n",
    "\n",
    "Codemaker: The code maker is the person who chooses a pattern of four code strings and provide feedback to the Codebreaker.\n",
    "\n",
    "Codebraker: The codebreaker tries to guess the pattern, in both order and color, within twelve (or ten, or eight) turns.\n",
    "\n",
    "The game is played using:\n",
    "\n",
    "1- A “decoding board” with a shield cover one of the ends of the board protecting the four code pegs created by the Codemaker and and twelve (or ten, or eight, or six) additional rows containing four large holes next to a set of four small holes.\n",
    "\n",
    "2- Code list of six different colors strings. [ ‘green’, ‘red’, ‘yellow’, ‘blue’, ‘purple’, ‘pink’ ]\n",
    "\n",
    "3- Key strings in a list, some “black” , some “white” .\n",
    "\n",
    "The flow:\n",
    "\n",
    "1- The Codemaker creates the pattern which is a list of four elements (i.e. [ ‘green’, ‘red’, ‘yellow’, ‘red’ ] ). This is created by the computer and you will not be able to see it, it is hidden from you. \n",
    "\n",
    "2- The Codebreaker decides the difficulty of the game by choosing how many rounds. More rounds increases the chances of winning the game by decoding the code. \n",
    "\n",
    "3- The Codebreaker writes down the pattern for the first time (i.e. [ ‘red’, ‘yellow’, ‘purple’, ‘red’ ] ).\n",
    "\n",
    "4- The Codemaker provides feedback by returning a list of “black” and “whites” strings indicating:\n",
    "\n",
    "\t4.1. “Black” means that you guess the color and the index of the element in the pattern but does not tell you which element. \n",
    "\t4.2. “White” means that you guess the color but not the location but does not tell you which element. \n",
    "    4.3. \" - \" means that the color is not part of the codomaker code. \n",
    "    \n",
    "(i.e. [ ' - ', \"white\", ' - ', 'black' ] ).\n",
    "\n",
    "5 - Step 3 and 4 are repeated sequentially until the Codebreaker solve the code or the number of rounds reached the limit. \n",
    "\n",
    "6- If the Codebreaker solve the code before the number of rounds then he wins, and if not, the Codemaker wins. \n"
   ]
  }
 ],
 "metadata": {
  "kernelspec": {
   "display_name": "Python 3",
   "language": "python",
   "name": "python3"
  },
  "language_info": {
   "codemirror_mode": {
    "name": "ipython",
    "version": 3
   },
   "file_extension": ".py",
   "mimetype": "text/x-python",
   "name": "python",
   "nbconvert_exporter": "python",
   "pygments_lexer": "ipython3",
   "version": "3.7.3"
  }
 },
 "nbformat": 4,
 "nbformat_minor": 2
}
