{
 "cells": [
  {
   "cell_type": "markdown",
   "metadata": {},
   "source": [
    "# Hello, welcome to the game of Mastermind\n",
    "\n",
    "### Mastermind game description and rules:\n",
    "\n",
    "#### Users:\n",
    "\n",
    "Codemaker: The code maker is the person who chooses a pattern of four code strings and provide feedback to the Codebreaker.\n",
    "\n",
    "Codebraker: The codebreaker tries to guess the pattern, in both order and color, within twelve (or ten, or eight) turns.\n",
    "\n",
    "#### The game is played using:\n",
    "\n",
    "1- A “decoding board” with a shield cover one of the ends of the board protecting the four code pegs created by the Codemaker and and twelve (or ten, or eight, or six) additional rows containing four large holes next to a set of four small holes.\n",
    "\n",
    "2- Code list of six different colors strings. [ ‘green’, ‘red’, ‘yellow’, ‘blue’, ‘purple’, ‘pink’ ]\n",
    "\n",
    "3- Key strings in a list, some “black” , some “white” .\n",
    "\n",
    "#### The flow:\n",
    "\n",
    "1- The Codemaker creates the pattern which is a list of four elements (i.e. [ ‘green’, ‘red’, ‘yellow’, ‘red’ ] ). This is created by the computer and you will not be able to see it, it is hidden from you. \n",
    "\n",
    "2- The Codebreaker decides the difficulty of the game by choosing how many rounds. More rounds increases the chances of winning the game by decoding the code. \n",
    "\n",
    "3- The Codebreaker writes down the pattern for the first time (i.e. [ ‘red’, ‘yellow’, ‘purple’, ‘red’ ] ).\n",
    "\n",
    "4- The Codemaker provides feedback by returning a list of “black” and “whites” strings indicating:\n",
    "\n",
    "\t4.1. “Black” means that you guess the color and the index of the element in the pattern but does not tell you which element. \n",
    "\t4.2. “White” means that you guess the color but not the location but does not tell you which element. \n",
    "    4.3. \" - \" means that the color is not part of the codomaker code. \n",
    "    \n",
    "(i.e. [ ' - ', \"white\", ' - ', 'black' ] ).\n",
    "\n",
    "5 - Step 3 and 4 are repeated sequentially until the Codebreaker solve the code or the number of rounds reached the limit. \n",
    "\n",
    "6- If the Codebreaker solve the code before the number of rounds then he wins, and if not, the Codemaker wins. \n"
   ]
  },
  {
   "cell_type": "code",
   "execution_count": 1,
   "metadata": {},
   "outputs": [],
   "source": [
    "# import library\n",
    "\n",
    "import random\n",
    "import sys"
   ]
  },
  {
   "cell_type": "code",
   "execution_count": 20,
   "metadata": {},
   "outputs": [
    {
     "name": "stdout",
     "output_type": "stream",
     "text": [
      "The game colors are: red, yellow, blue, green, pink and purple\n"
     ]
    }
   ],
   "source": [
    "# Setting up the variables\n",
    "\n",
    "color_list_options = ['red', 'yellow', 'blue', 'green', 'pink', 'purple']\n",
    "level_rounds = { 'easy': 12, 'medium': 8, 'hard': 4}\n",
    "\n",
    "print('The game colors are: red, yellow, blue, green, pink and purple')"
   ]
  },
  {
   "cell_type": "code",
   "execution_count": 36,
   "metadata": {
    "scrolled": true
   },
   "outputs": [
    {
     "name": "stdout",
     "output_type": "stream",
     "text": [
      "Choose the difficult level for the game: \n",
      "hard\n"
     ]
    }
   ],
   "source": [
    "# DEFINING THE DIFFICULTY LEVEL THUS THE ROUNDS OF THE GAME\n",
    "\n",
    "# Easy = 12 rounds, Medium = 8 rounds and Hard = 4 rounds\n",
    "\n",
    "def ask_user_difficulty_level():\n",
    "    \n",
    "    difficulty_level = input(\"Choose the difficult level (easy, medium or hard) for the game: \\n\").lower()\n",
    "    \n",
    "    if difficulty_level not in level_rounds.keys():\n",
    "        print(\"\\n FATAL ERROR: Your response must be 'easy', 'medium' or 'hard'. \\n\")\n",
    "        sys.exit()\n",
    "        \n",
    "    else:\n",
    "        return level_rounds[difficulty_level]\n",
    "    \n",
    "ROUNDS_LEVEL = ask_user_difficulty_level()\n",
    "\n",
    "# print(f'\\nThe game will consist of {ROUNDS_LEVEL} rounds.') QUEDA PENDIENTE"
   ]
  },
  {
   "cell_type": "code",
   "execution_count": 34,
   "metadata": {},
   "outputs": [],
   "source": [
    "# DEFINING THE CODEMAKER CODE PATTERN IN A RANDOM WAY\n",
    "\n",
    "def codemaker_code_pattern():\n",
    "    \n",
    "    codemaker_code = []\n",
    "    \n",
    "    for i in range(4):\n",
    "        choice = random.choice(color_list_options)\n",
    "        codemaker_code.append(choice)\n",
    "\n",
    "    return codemaker_code\n",
    "\n",
    "CODEMAKER_PATTERN = codemaker_code_pattern()"
   ]
  },
  {
   "cell_type": "code",
   "execution_count": 48,
   "metadata": {},
   "outputs": [
    {
     "name": "stdout",
     "output_type": "stream",
     "text": [
      "Enter four colors separated by a SPACE: \n",
      "red blue RED yellow\n"
     ]
    }
   ],
   "source": [
    "# DEFINING THE CODEBREAKER GUESS\n",
    "\n",
    "def codebreaker_guess():\n",
    "    \n",
    "    #lista de colors\n",
    "    \n",
    "    user_code_choice = input(\"Enter four colors separated by a SPACE: \\n\").lower()\n",
    "    \n",
    "    user_choice  = user_code_choice.split()\n",
    "    \n",
    "    check =  all(item in color_list_options for item in user_choice)\n",
    "    \n",
    "    if check and len(user_choice) == 4:\n",
    "        return user_choice\n",
    "        \n",
    "    else:\n",
    "        print(\"FATAL ERROR: The colors must be: red, yellow, blue, green, pink, purple. And you must enter exactly four colors\\n\")\n",
    "        sys.exit()\n",
    "\n",
    "\n",
    "code_breaker_guess = codebreaker_guess()\n"
   ]
  },
  {
   "cell_type": "code",
   "execution_count": null,
   "metadata": {},
   "outputs": [],
   "source": []
  },
  {
   "cell_type": "code",
   "execution_count": null,
   "metadata": {},
   "outputs": [],
   "source": []
  },
  {
   "cell_type": "code",
   "execution_count": null,
   "metadata": {},
   "outputs": [],
   "source": []
  },
  {
   "cell_type": "code",
   "execution_count": null,
   "metadata": {},
   "outputs": [],
   "source": []
  },
  {
   "cell_type": "code",
   "execution_count": null,
   "metadata": {},
   "outputs": [],
   "source": []
  }
 ],
 "metadata": {
  "kernelspec": {
   "display_name": "Python 3",
   "language": "python",
   "name": "python3"
  },
  "language_info": {
   "codemirror_mode": {
    "name": "ipython",
    "version": 3
   },
   "file_extension": ".py",
   "mimetype": "text/x-python",
   "name": "python",
   "nbconvert_exporter": "python",
   "pygments_lexer": "ipython3",
   "version": "3.7.3"
  }
 },
 "nbformat": 4,
 "nbformat_minor": 2
}
